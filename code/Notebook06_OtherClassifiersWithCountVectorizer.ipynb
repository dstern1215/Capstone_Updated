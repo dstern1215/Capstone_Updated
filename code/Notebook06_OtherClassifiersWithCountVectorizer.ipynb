{
  "nbformat": 4,
  "nbformat_minor": 0,
  "metadata": {
    "colab": {
      "name": "OtherClassifiersWithCountVectorizer.ipynb",
      "version": "0.3.2",
      "provenance": [],
      "collapsed_sections": []
    },
    "kernelspec": {
      "display_name": "Python [conda env:chainer_p36]",
      "language": "python",
      "name": "conda-env-chainer_p36-py"
    }
  },
  "cells": [
    {
      "metadata": {
        "id": "cmFT1MJ6aeiX",
        "colab_type": "text"
      },
      "cell_type": "markdown",
      "source": [
        "# Other Classifiers With Countvectorizer\n",
        "\n"
      ]
    },
    {
      "metadata": {
        "id": "J70UuLvsP5g4",
        "colab_type": "code",
        "colab": {}
      },
      "cell_type": "code",
      "source": [
        "import pandas as pd\n",
        "import numpy as np\n",
        "import random\n",
        "from sklearn.feature_extraction.text import CountVectorizer, TfidfVectorizer\n",
        "from sklearn.model_selection import train_test_split\n",
        "from nltk.corpus import stopwords\n",
        "from sklearn.linear_model import LogisticRegression\n",
        "from sklearn.metrics import accuracy_score, f1_score, precision_score, roc_auc_score, average_precision_score, recall_score\n",
        "from sklearn.metrics import confusion_matrix\n",
        "from sklearn.metrics import classification_report\n",
        "import matplotlib.pyplot as plt\n",
        "import eli5\n",
        "from sklearn.naive_bayes import BernoulliNB, MultinomialNB\n",
        "from sklearn.ensemble import ExtraTreesClassifier\n",
        "from sklearn.ensemble import RandomForestClassifier,VotingClassifier\n",
        "from sklearn.svm import SVC\n",
        "%matplotlib inline\n",
        "import nltk"
      ],
      "execution_count": 0,
      "outputs": []
    },
    {
      "metadata": {
        "id": "J2h_hfQ1Gk5l",
        "colab_type": "code",
        "colab": {}
      },
      "cell_type": "code",
      "source": [
        ""
      ],
      "execution_count": 0,
      "outputs": []
    },
    {
      "metadata": {
        "id": "Ln4vcc6lGlop",
        "colab_type": "text"
      },
      "cell_type": "markdown",
      "source": [
        "Below is code that will read either the entire dataset, or a stratified subset. Due to the size of the data and the computationally-expensive nature of some of these models, this notebook will be run"
      ]
    },
    {
      "metadata": {
        "id": "qrkhNOe0P5g7",
        "colab_type": "code",
        "colab": {}
      },
      "cell_type": "code",
      "source": [
        "subset_amount = .05\n",
        "raw = pd.read_csv(r'../data/train_preprocessed', skiprows=lambda i: i>0 and random.random() > subset_amount, \n",
        "                  usecols=['clean_question_text','target','qid'])\n",
        "raw.dropna(inplace=True)"
      ],
      "execution_count": 0,
      "outputs": []
    },
    {
      "metadata": {
        "id": "zLNALKPgP5g-",
        "colab_type": "code",
        "colab": {}
      },
      "cell_type": "code",
      "source": [
        "#raw = pd.read_csv('../data/train_preprocessed.csv', usecols=['clean_question_text','target','qid'])\n",
        "#raw.dropna(inplace=True)"
      ],
      "execution_count": 0,
      "outputs": []
    },
    {
      "metadata": {
        "id": "jv9lM9X6P5hA",
        "colab_type": "code",
        "colab": {}
      },
      "cell_type": "code",
      "source": [
        "X, y = raw.clean_question_text, raw.target"
      ],
      "execution_count": 0,
      "outputs": []
    },
    {
      "metadata": {
        "id": "UdbS6UTZP5hD",
        "colab_type": "text"
      },
      "cell_type": "markdown",
      "source": [
        "### Instantiate the Vector and train/test/split"
      ]
    },
    {
      "metadata": {
        "id": "xnEY5NXZP5hE",
        "colab_type": "code",
        "colab": {}
      },
      "cell_type": "code",
      "source": [
        "vectorizer = CountVectorizer(min_df=5, max_df=0.7, \n",
        "                             stop_words=stopwords.words('english'))  "
      ],
      "execution_count": 0,
      "outputs": []
    },
    {
      "metadata": {
        "id": "k5ugA_Y9P5hG",
        "colab_type": "code",
        "outputId": "1efc6c0e-ddba-4441-8cb3-0ccd5d84d336",
        "colab": {
          "base_uri": "https://localhost:8080/",
          "height": 158
        }
      },
      "cell_type": "code",
      "source": [
        "vectorizer.fit(X)"
      ],
      "execution_count": 0,
      "outputs": [
        {
          "output_type": "execute_result",
          "data": {
            "text/plain": [
              "CountVectorizer(analyzer=u'word', binary=False, decode_error=u'strict',\n",
              "        dtype=<type 'numpy.int64'>, encoding=u'utf-8', input=u'content',\n",
              "        lowercase=True, max_df=0.7, max_features=None, min_df=5,\n",
              "        ngram_range=(1, 1), preprocessor=None,\n",
              "        stop_words=[u'i', u'me', u'my', u'myself', u'we', u'our', u'ours', u'ourselves', u'you', u\"you're\", u\"you've\", u\"you'll\", u\"you'd\", u'your', u'yours', u'yourself', u'yourselves', u'he', u'him', u'his', u'himself', u'she', u\"she's\", u'her', u'hers', u'herself', u'it', u\"it's\", u'its', u'itself', u'th...', u\"shouldn't\", u'wasn', u\"wasn't\", u'weren', u\"weren't\", u'won', u\"won't\", u'wouldn', u\"wouldn't\"],\n",
              "        strip_accents=None, token_pattern=u'(?u)\\\\b\\\\w\\\\w+\\\\b',\n",
              "        tokenizer=None, vocabulary=None)"
            ]
          },
          "metadata": {
            "tags": []
          },
          "execution_count": 5
        }
      ]
    },
    {
      "metadata": {
        "id": "eo9j1CY1P5hL",
        "colab_type": "code",
        "colab": {}
      },
      "cell_type": "code",
      "source": [
        "X_train, X_test, y_train, y_test = train_test_split(X, y,\n",
        "                                                    test_size=0.2,\n",
        "                                                    random_state=0) "
      ],
      "execution_count": 0,
      "outputs": []
    },
    {
      "metadata": {
        "id": "RX_N6ulTP5hO",
        "colab_type": "code",
        "colab": {}
      },
      "cell_type": "code",
      "source": [
        "X_train = vectorizer.transform(X_train)\n",
        "X_test = vectorizer.transform(X_test)"
      ],
      "execution_count": 0,
      "outputs": []
    },
    {
      "metadata": {
        "id": "cUBAqXKlEAOs",
        "colab_type": "code",
        "colab": {}
      },
      "cell_type": "code",
      "source": [
        "accuracy_df = pd.DataFrame()\n",
        "f1_df = pd.DataFrame()"
      ],
      "execution_count": 0,
      "outputs": []
    },
    {
      "metadata": {
        "id": "CPFqgbz2P5hQ",
        "colab_type": "text"
      },
      "cell_type": "markdown",
      "source": [
        "## Naive Bayes (multinomial)"
      ]
    },
    {
      "metadata": {
        "id": "7F70psD5P5hR",
        "colab_type": "code",
        "outputId": "ebafce6d-3ffc-43c6-e7c6-046100ea45b5",
        "colab": {
          "base_uri": "https://localhost:8080/",
          "height": 202
        }
      },
      "cell_type": "code",
      "source": [
        "MNB_classifier = MultinomialNB()\n",
        "MNB_classifier.fit(X_train, y_train)\n",
        "\n",
        "y_preds_test=MNB_classifier.predict(X_test)\n",
        "y_probas_test=MNB_classifier.predict_proba(X_test)\n",
        "\n",
        "y_preds_train=MNB_classifier.predict(X_train)\n",
        "y_probas_train=MNB_classifier.predict_proba(X_train)\n",
        "\n",
        "y_true_train = y_train.values\n",
        "y_true_test = y_test.values\n",
        "\n",
        "print(\"Train Accuracy Score: \", accuracy_score(y_true_train, y_preds_train))\n",
        "print(\"Test Accuracy Score: \", accuracy_score(y_true_test, y_preds_test))\n",
        "print(\"Train F1 Score: \", f1_score(y_true_train, y_preds_train))\n",
        "print(\"Test F1 Score: \", f1_score(y_true_test, y_preds_test))\n",
        "\n",
        "\n",
        "accuracy_df.set_value(\"NB_Multi\" , \"countVectorizer\" , \n",
        "accuracy_score(y_true_test, y_preds_test))\n",
        "\n",
        "f1_df.set_value(\"NB_Multi\" , \"countVectorizer\" , \n",
        "f1_score(y_true_test, y_preds_test))"
      ],
      "execution_count": 0,
      "outputs": [
        {
          "output_type": "stream",
          "text": [
            "('Train Accuracy Score: ', 0.942145278357623)\n",
            "('Test Accuracy Score: ', 0.9315970892378399)\n",
            "('Train F1 Score: ', 0.6068965517241379)\n",
            "('Test F1 Score: ', 0.5149375339489407)\n"
          ],
          "name": "stdout"
        },
        {
          "output_type": "stream",
          "text": [
            "/usr/local/lib/python2.7/dist-packages/ipykernel_launcher.py:20: FutureWarning: set_value is deprecated and will be removed in a future release. Please use .at[] or .iat[] accessors instead\n",
            "/usr/local/lib/python2.7/dist-packages/ipykernel_launcher.py:23: FutureWarning: set_value is deprecated and will be removed in a future release. Please use .at[] or .iat[] accessors instead\n"
          ],
          "name": "stderr"
        },
        {
          "output_type": "execute_result",
          "data": {
            "text/html": [
              "<div>\n",
              "<style scoped>\n",
              "    .dataframe tbody tr th:only-of-type {\n",
              "        vertical-align: middle;\n",
              "    }\n",
              "\n",
              "    .dataframe tbody tr th {\n",
              "        vertical-align: top;\n",
              "    }\n",
              "\n",
              "    .dataframe thead th {\n",
              "        text-align: right;\n",
              "    }\n",
              "</style>\n",
              "<table border=\"1\" class=\"dataframe\">\n",
              "  <thead>\n",
              "    <tr style=\"text-align: right;\">\n",
              "      <th></th>\n",
              "      <th>countVectorizer</th>\n",
              "    </tr>\n",
              "  </thead>\n",
              "  <tbody>\n",
              "    <tr>\n",
              "      <th>NB_Multi</th>\n",
              "      <td>0.514938</td>\n",
              "    </tr>\n",
              "  </tbody>\n",
              "</table>\n",
              "</div>"
            ],
            "text/plain": [
              "          countVectorizer\n",
              "NB_Multi         0.514938"
            ]
          },
          "metadata": {
            "tags": []
          },
          "execution_count": 29
        }
      ]
    },
    {
      "metadata": {
        "id": "Gno63UPHWuOs",
        "colab_type": "code",
        "outputId": "76a12960-1dab-4c5e-e369-f6c73b87de91",
        "colab": {
          "base_uri": "https://localhost:8080/",
          "height": 78
        }
      },
      "cell_type": "code",
      "source": [
        "f1_df"
      ],
      "execution_count": 0,
      "outputs": [
        {
          "output_type": "execute_result",
          "data": {
            "text/html": [
              "<div>\n",
              "<style scoped>\n",
              "    .dataframe tbody tr th:only-of-type {\n",
              "        vertical-align: middle;\n",
              "    }\n",
              "\n",
              "    .dataframe tbody tr th {\n",
              "        vertical-align: top;\n",
              "    }\n",
              "\n",
              "    .dataframe thead th {\n",
              "        text-align: right;\n",
              "    }\n",
              "</style>\n",
              "<table border=\"1\" class=\"dataframe\">\n",
              "  <thead>\n",
              "    <tr style=\"text-align: right;\">\n",
              "      <th></th>\n",
              "      <th>countVectorizer</th>\n",
              "    </tr>\n",
              "  </thead>\n",
              "  <tbody>\n",
              "    <tr>\n",
              "      <th>NB_Multi</th>\n",
              "      <td>0.514938</td>\n",
              "    </tr>\n",
              "  </tbody>\n",
              "</table>\n",
              "</div>"
            ],
            "text/plain": [
              "          countVectorizer\n",
              "NB_Multi         0.514938"
            ]
          },
          "metadata": {
            "tags": []
          },
          "execution_count": 30
        }
      ]
    },
    {
      "metadata": {
        "id": "uCxaG-t8P5hV",
        "colab_type": "text"
      },
      "cell_type": "markdown",
      "source": [
        "## Naive Bayes (Bernouli)"
      ]
    },
    {
      "metadata": {
        "id": "TTiQ4YQxP5hW",
        "colab_type": "code",
        "outputId": "80322483-41fa-4e6a-f385-5fdecd4c216c",
        "colab": {
          "base_uri": "https://localhost:8080/",
          "height": 232
        }
      },
      "cell_type": "code",
      "source": [
        "BNB_classifier = BernoulliNB()\n",
        "BNB_classifier.fit(X_train, y_train)\n",
        "\n",
        "y_preds_test=BNB_classifier.predict(X_test)\n",
        "y_probas_test=BNB_classifier.predict_proba(X_test)\n",
        "\n",
        "y_preds_train=BNB_classifier.predict(X_train)\n",
        "y_probas_train=BNB_classifier.predict_proba(X_train)\n",
        "\n",
        "y_true_train = y_train.values\n",
        "y_true_test = y_test.values\n",
        "\n",
        "print(\"Train Accuracy Score: \", accuracy_score(y_true_train, y_preds_train))\n",
        "print(\"Test Accuracy Score: \", accuracy_score(y_true_test, y_preds_test))\n",
        "print(\"Train F1 Score: \", f1_score(y_true_train, y_preds_train))\n",
        "print(\"Test F1 Score: \", f1_score(y_true_test, y_preds_test))\n",
        "\n",
        "accuracy_df.set_value(\"NB_Bern\" , \"countVectorizer\" , \n",
        "accuracy_score(y_true_test, y_preds_test))\n",
        "\n",
        "f1_df.set_value(\"NB_Bern\" , \"countVectorizer\" , \n",
        "f1_score(y_true_test, y_preds_test))"
      ],
      "execution_count": 0,
      "outputs": [
        {
          "output_type": "stream",
          "text": [
            "('Train Accuracy Score: ', 0.942145278357623)\n",
            "('Test Accuracy Score: ', 0.9324396782841823)\n",
            "('Train F1 Score: ', 0.5653862753560639)\n",
            "('Test F1 Score: ', 0.47562425683709875)\n"
          ],
          "name": "stdout"
        },
        {
          "output_type": "stream",
          "text": [
            "/usr/local/lib/python2.7/dist-packages/ipykernel_launcher.py:19: FutureWarning: set_value is deprecated and will be removed in a future release. Please use .at[] or .iat[] accessors instead\n",
            "/usr/local/lib/python2.7/dist-packages/ipykernel_launcher.py:22: FutureWarning: set_value is deprecated and will be removed in a future release. Please use .at[] or .iat[] accessors instead\n"
          ],
          "name": "stderr"
        },
        {
          "output_type": "execute_result",
          "data": {
            "text/html": [
              "<div>\n",
              "<style scoped>\n",
              "    .dataframe tbody tr th:only-of-type {\n",
              "        vertical-align: middle;\n",
              "    }\n",
              "\n",
              "    .dataframe tbody tr th {\n",
              "        vertical-align: top;\n",
              "    }\n",
              "\n",
              "    .dataframe thead th {\n",
              "        text-align: right;\n",
              "    }\n",
              "</style>\n",
              "<table border=\"1\" class=\"dataframe\">\n",
              "  <thead>\n",
              "    <tr style=\"text-align: right;\">\n",
              "      <th></th>\n",
              "      <th>countVectorizer</th>\n",
              "    </tr>\n",
              "  </thead>\n",
              "  <tbody>\n",
              "    <tr>\n",
              "      <th>NB_Multi</th>\n",
              "      <td>0.514938</td>\n",
              "    </tr>\n",
              "    <tr>\n",
              "      <th>NB_Bern</th>\n",
              "      <td>0.475624</td>\n",
              "    </tr>\n",
              "  </tbody>\n",
              "</table>\n",
              "</div>"
            ],
            "text/plain": [
              "          countVectorizer\n",
              "NB_Multi         0.514938\n",
              "NB_Bern          0.475624"
            ]
          },
          "metadata": {
            "tags": []
          },
          "execution_count": 31
        }
      ]
    },
    {
      "metadata": {
        "id": "RxIejChMP5hb",
        "colab_type": "text"
      },
      "cell_type": "markdown",
      "source": [
        "# SVC Classifier"
      ]
    },
    {
      "metadata": {
        "id": "wPhtD3_iHV9k",
        "colab_type": "code",
        "colab": {}
      },
      "cell_type": "code",
      "source": [
        "Support Vector Classifiers (SVCs) are considered to be quite strong at "
      ],
      "execution_count": 0,
      "outputs": []
    },
    {
      "metadata": {
        "id": "8z77RgRAP5hc",
        "colab_type": "code",
        "outputId": "14c773f8-0240-4407-edea-4fdebed4046a",
        "colab": {
          "base_uri": "https://localhost:8080/",
          "height": 69
        }
      },
      "cell_type": "code",
      "source": [
        "#%time\n",
        "#SVC_classifier = SVC(kernel=\"linear\",probability=True,verbose=2)\n",
        "#SVC_classifier.fit(X_train, y_train)"
      ],
      "execution_count": 0,
      "outputs": [
        {
          "output_type": "stream",
          "text": [
            "CPU times: user 0 ns, sys: 3 µs, total: 3 µs\n",
            "Wall time: 8.11 µs\n",
            "[LibSVM]"
          ],
          "name": "stdout"
        }
      ]
    },
    {
      "metadata": {
        "id": "WzQft3upP5hg",
        "colab_type": "code",
        "colab": {}
      },
      "cell_type": "code",
      "source": [
        "#y_preds_test=SVC_classifier.predict(X_test)\n",
        "#y_probas_test=SVC_classifier.predict_proba(X_test)"
      ],
      "execution_count": 0,
      "outputs": []
    },
    {
      "metadata": {
        "id": "3_mMgj6VP5hj",
        "colab_type": "code",
        "colab": {}
      },
      "cell_type": "code",
      "source": [
        "#y_preds_train=SVC_classifier.predict(X_train)\n",
        "#y_probas_train=SVC_classifier.predict_proba(X_train)"
      ],
      "execution_count": 0,
      "outputs": []
    },
    {
      "metadata": {
        "id": "SkocaMEKP5ho",
        "colab_type": "code",
        "colab": {}
      },
      "cell_type": "code",
      "source": [
        "#y_true_train = y_train.values\n",
        "#y_true_test = y_test.values"
      ],
      "execution_count": 0,
      "outputs": []
    },
    {
      "metadata": {
        "id": "dJMyhGdSP5ht",
        "colab_type": "code",
        "colab": {}
      },
      "cell_type": "code",
      "source": [
        "#print(\"Train Accuracy Score: \", accuracy_score(y_true_train, y_preds_train))\n",
        "#print(\"Test Accuracy Score: \", accuracy_score(y_true_test, y_preds_test))\n",
        "#print(\"Train F1 Score: \", f1_score(y_true_train, y_preds_train))\n",
        "#print(\"Test F1 Score: \", f1_score(y_true_test, y_preds_test))\n",
        "\n",
        "#accuracy_df.set_value(\"SVC_Classifier\" , \"countVectorizer\" , \n",
        "#accuracy_score(y_true_test, y_preds_test))\n",
        "\n",
        "#f1_df.set_value(\"SVC_Classifier\" , \"countVectorizer\" , \n",
        "#f1_score(y_true_test, y_preds_test))"
      ],
      "execution_count": 0,
      "outputs": []
    },
    {
      "metadata": {
        "id": "hQzkve7lP5hy",
        "colab_type": "text"
      },
      "cell_type": "markdown",
      "source": [
        "### Extra Trees"
      ]
    },
    {
      "metadata": {
        "id": "djf0fvApP5hz",
        "colab_type": "code",
        "outputId": "b3ec6a77-eea1-447a-8e55-d213172b7092",
        "colab": {
          "base_uri": "https://localhost:8080/",
          "height": 1935
        }
      },
      "cell_type": "code",
      "source": [
        "%time\n",
        "ET_classifier = ExtraTreesClassifier(n_estimators=100,random_state=420,verbose=2,max_features=.05)\n",
        "ET_classifier.fit(X_train, y_train)"
      ],
      "execution_count": 0,
      "outputs": [
        {
          "output_type": "stream",
          "text": [
            "CPU times: user 3 µs, sys: 0 ns, total: 3 µs\n",
            "Wall time: 5.96 µs\n",
            "building tree 1 of 100\n"
          ],
          "name": "stdout"
        },
        {
          "output_type": "stream",
          "text": [
            "[Parallel(n_jobs=1)]: Using backend SequentialBackend with 1 concurrent workers.\n",
            "[Parallel(n_jobs=1)]: Done   1 out of   1 | elapsed:    1.7s remaining:    0.0s\n"
          ],
          "name": "stderr"
        },
        {
          "output_type": "stream",
          "text": [
            "building tree 2 of 100\n",
            "building tree 3 of 100\n",
            "building tree 4 of 100\n",
            "building tree 5 of 100\n",
            "building tree 6 of 100\n",
            "building tree 7 of 100\n",
            "building tree 8 of 100\n",
            "building tree 9 of 100\n",
            "building tree 10 of 100\n",
            "building tree 11 of 100\n",
            "building tree 12 of 100\n",
            "building tree 13 of 100\n",
            "building tree 14 of 100\n",
            "building tree 15 of 100\n",
            "building tree 16 of 100\n",
            "building tree 17 of 100\n",
            "building tree 18 of 100\n",
            "building tree 19 of 100\n",
            "building tree 20 of 100\n",
            "building tree 21 of 100\n",
            "building tree 22 of 100\n",
            "building tree 23 of 100\n",
            "building tree 24 of 100\n",
            "building tree 25 of 100\n",
            "building tree 26 of 100\n",
            "building tree 27 of 100\n",
            "building tree 28 of 100\n",
            "building tree 29 of 100\n",
            "building tree 30 of 100\n",
            "building tree 31 of 100\n",
            "building tree 32 of 100\n",
            "building tree 33 of 100\n",
            "building tree 34 of 100\n",
            "building tree 35 of 100\n",
            "building tree 36 of 100\n",
            "building tree 37 of 100\n",
            "building tree 38 of 100\n",
            "building tree 39 of 100\n",
            "building tree 40 of 100\n",
            "building tree 41 of 100\n",
            "building tree 42 of 100\n",
            "building tree 43 of 100\n",
            "building tree 44 of 100\n",
            "building tree 45 of 100\n",
            "building tree 46 of 100\n",
            "building tree 47 of 100\n",
            "building tree 48 of 100\n",
            "building tree 49 of 100\n",
            "building tree 50 of 100\n",
            "building tree 51 of 100\n",
            "building tree 52 of 100\n",
            "building tree 53 of 100\n",
            "building tree 54 of 100\n",
            "building tree 55 of 100\n",
            "building tree 56 of 100\n",
            "building tree 57 of 100\n",
            "building tree 58 of 100\n",
            "building tree 59 of 100\n",
            "building tree 60 of 100\n",
            "building tree 61 of 100\n",
            "building tree 62 of 100\n",
            "building tree 63 of 100\n",
            "building tree 64 of 100\n",
            "building tree 65 of 100\n",
            "building tree 66 of 100\n",
            "building tree 67 of 100\n",
            "building tree 68 of 100\n",
            "building tree 69 of 100\n",
            "building tree 70 of 100\n",
            "building tree 71 of 100\n",
            "building tree 72 of 100\n",
            "building tree 73 of 100\n",
            "building tree 74 of 100\n",
            "building tree 75 of 100\n",
            "building tree 76 of 100\n",
            "building tree 77 of 100\n",
            "building tree 78 of 100\n",
            "building tree 79 of 100\n",
            "building tree 80 of 100\n",
            "building tree 81 of 100\n",
            "building tree 82 of 100\n",
            "building tree 83 of 100\n",
            "building tree 84 of 100\n",
            "building tree 85 of 100\n",
            "building tree 86 of 100\n",
            "building tree 87 of 100\n",
            "building tree 88 of 100\n",
            "building tree 89 of 100\n",
            "building tree 90 of 100\n",
            "building tree 91 of 100\n",
            "building tree 92 of 100\n",
            "building tree 93 of 100\n",
            "building tree 94 of 100\n",
            "building tree 95 of 100\n",
            "building tree 96 of 100\n",
            "building tree 97 of 100\n",
            "building tree 98 of 100\n",
            "building tree 99 of 100\n",
            "building tree 100 of 100\n"
          ],
          "name": "stdout"
        },
        {
          "output_type": "stream",
          "text": [
            "[Parallel(n_jobs=1)]: Done 100 out of 100 | elapsed:  2.9min finished\n"
          ],
          "name": "stderr"
        },
        {
          "output_type": "execute_result",
          "data": {
            "text/plain": [
              "ExtraTreesClassifier(bootstrap=False, class_weight=None, criterion='gini',\n",
              "           max_depth=None, max_features=0.05, max_leaf_nodes=None,\n",
              "           min_impurity_decrease=0.0, min_impurity_split=None,\n",
              "           min_samples_leaf=1, min_samples_split=2,\n",
              "           min_weight_fraction_leaf=0.0, n_estimators=100, n_jobs=None,\n",
              "           oob_score=False, random_state=420, verbose=2, warm_start=False)"
            ]
          },
          "metadata": {
            "tags": []
          },
          "execution_count": 11
        }
      ]
    },
    {
      "metadata": {
        "id": "macRQxbeP5h4",
        "colab_type": "code",
        "outputId": "120faaf0-2158-443e-ef4c-df3988e32974",
        "colab": {
          "base_uri": "https://localhost:8080/",
          "height": 486
        }
      },
      "cell_type": "code",
      "source": [
        "y_preds_test=ET_classifier.predict(X_test)\n",
        "y_probas_test=ET_classifier.predict_proba(X_test)\n",
        "\n",
        "y_preds_train=ET_classifier.predict(X_train)\n",
        "y_probas_train=ET_classifier.predict_proba(X_train)\n",
        "\n",
        "y_true_train = y_train.values\n",
        "y_true_test = y_test.values\n",
        "\n",
        "print(\"Train Accuracy Score: \", accuracy_score(y_true_train, y_preds_train))\n",
        "print(\"Test Accuracy Score: \", accuracy_score(y_true_test, y_preds_test))\n",
        "print(\"Train F1 Score: \", f1_score(y_true_train, y_preds_train))\n",
        "print(\"Test F1 Score: \", f1_score(y_true_test, y_preds_test))\n",
        "\n",
        "accuracy_df.set_value(\"ExtraTrees\" , \"countVectorizer\" , \n",
        "accuracy_score(y_true_test, y_preds_test))\n",
        "\n",
        "f1_df.set_value(\"ExtraTrees\" , \"countVectorizer\" , \n",
        "accuracy_score(y_true_test, y_preds_test))"
      ],
      "execution_count": 0,
      "outputs": [
        {
          "output_type": "stream",
          "text": [
            "[Parallel(n_jobs=1)]: Using backend SequentialBackend with 1 concurrent workers.\n",
            "[Parallel(n_jobs=1)]: Done   1 out of   1 | elapsed:    0.0s remaining:    0.0s\n",
            "[Parallel(n_jobs=1)]: Done 100 out of 100 | elapsed:    3.1s finished\n",
            "[Parallel(n_jobs=1)]: Using backend SequentialBackend with 1 concurrent workers.\n",
            "[Parallel(n_jobs=1)]: Done   1 out of   1 | elapsed:    0.0s remaining:    0.0s\n",
            "[Parallel(n_jobs=1)]: Done 100 out of 100 | elapsed:    3.1s finished\n",
            "[Parallel(n_jobs=1)]: Using backend SequentialBackend with 1 concurrent workers.\n",
            "[Parallel(n_jobs=1)]: Done   1 out of   1 | elapsed:    0.1s remaining:    0.0s\n",
            "[Parallel(n_jobs=1)]: Done 100 out of 100 | elapsed:   11.5s finished\n",
            "[Parallel(n_jobs=1)]: Using backend SequentialBackend with 1 concurrent workers.\n",
            "[Parallel(n_jobs=1)]: Done   1 out of   1 | elapsed:    0.1s remaining:    0.0s\n"
          ],
          "name": "stderr"
        },
        {
          "output_type": "stream",
          "text": [
            "('Train Accuracy Score: ', 0.9996552846774039)\n",
            "('Test Accuracy Score: ', 0.9348142474147836)\n",
            "('Train F1 Score: ', 0.9972560975609756)\n",
            "('Test F1 Score: ', 0.38908829863603733)\n"
          ],
          "name": "stdout"
        },
        {
          "output_type": "stream",
          "text": [
            "[Parallel(n_jobs=1)]: Done 100 out of 100 | elapsed:   11.6s finished\n",
            "/usr/local/lib/python2.7/dist-packages/ipykernel_launcher.py:16: FutureWarning: set_value is deprecated and will be removed in a future release. Please use .at[] or .iat[] accessors instead\n",
            "  app.launch_new_instance()\n",
            "/usr/local/lib/python2.7/dist-packages/ipykernel_launcher.py:19: FutureWarning: set_value is deprecated and will be removed in a future release. Please use .at[] or .iat[] accessors instead\n"
          ],
          "name": "stderr"
        },
        {
          "output_type": "execute_result",
          "data": {
            "text/html": [
              "<div>\n",
              "<style scoped>\n",
              "    .dataframe tbody tr th:only-of-type {\n",
              "        vertical-align: middle;\n",
              "    }\n",
              "\n",
              "    .dataframe tbody tr th {\n",
              "        vertical-align: top;\n",
              "    }\n",
              "\n",
              "    .dataframe thead th {\n",
              "        text-align: right;\n",
              "    }\n",
              "</style>\n",
              "<table border=\"1\" class=\"dataframe\">\n",
              "  <thead>\n",
              "    <tr style=\"text-align: right;\">\n",
              "      <th></th>\n",
              "      <th>countVectorizer</th>\n",
              "    </tr>\n",
              "  </thead>\n",
              "  <tbody>\n",
              "    <tr>\n",
              "      <th>NB_Multi</th>\n",
              "      <td>0.514938</td>\n",
              "    </tr>\n",
              "    <tr>\n",
              "      <th>NB_Bern</th>\n",
              "      <td>0.475624</td>\n",
              "    </tr>\n",
              "    <tr>\n",
              "      <th>ExtraTrees</th>\n",
              "      <td>0.934814</td>\n",
              "    </tr>\n",
              "  </tbody>\n",
              "</table>\n",
              "</div>"
            ],
            "text/plain": [
              "            countVectorizer\n",
              "NB_Multi           0.514938\n",
              "NB_Bern            0.475624\n",
              "ExtraTrees         0.934814"
            ]
          },
          "metadata": {
            "tags": []
          },
          "execution_count": 33
        }
      ]
    },
    {
      "metadata": {
        "id": "Ou9W9TAPaZ3K",
        "colab_type": "text"
      },
      "cell_type": "markdown",
      "source": [
        "Even though ET is know as a \"less interpretable\" classifier than Logistic Regression, eli5 is still able to interpret its weights."
      ]
    },
    {
      "metadata": {
        "id": "X4JrlAZMP5h9",
        "colab_type": "code",
        "outputId": "8c16c3a1-48c8-4908-e705-343b458cbd3d",
        "colab": {
          "base_uri": "https://localhost:8080/",
          "height": 515
        }
      },
      "cell_type": "code",
      "source": [
        "eli5.explain_prediction(ET_classifier, raw['clean_question_text'][189], vectorizer, \n",
        "                        target_names=[\"Sincere\",\"Insincere\"],top=(10,10))"
      ],
      "execution_count": 0,
      "outputs": [
        {
          "output_type": "stream",
          "text": [
            "[Parallel(n_jobs=1)]: Using backend SequentialBackend with 1 concurrent workers.\n",
            "[Parallel(n_jobs=1)]: Done   1 out of   1 | elapsed:    0.0s remaining:    0.0s\n",
            "[Parallel(n_jobs=1)]: Done 100 out of 100 | elapsed:    0.0s finished\n"
          ],
          "name": "stderr"
        },
        {
          "output_type": "execute_result",
          "data": {
            "text/html": [
              "\n",
              "    <style>\n",
              "    table.eli5-weights tr:hover {\n",
              "        filter: brightness(85%);\n",
              "    }\n",
              "</style>\n",
              "\n",
              "\n",
              "\n",
              "    \n",
              "\n",
              "    \n",
              "\n",
              "    \n",
              "\n",
              "    \n",
              "\n",
              "    \n",
              "\n",
              "    \n",
              "\n",
              "\n",
              "    \n",
              "\n",
              "    \n",
              "\n",
              "    \n",
              "\n",
              "    \n",
              "        \n",
              "\n",
              "    \n",
              "\n",
              "        \n",
              "\n",
              "        \n",
              "    \n",
              "        \n",
              "        \n",
              "    \n",
              "        <p style=\"margin-bottom: 0.5em; margin-top: 0em\">\n",
              "            <b>\n",
              "    \n",
              "        y=Sincere\n",
              "    \n",
              "</b>\n",
              "\n",
              "    \n",
              "    (probability <b>1.000</b>)\n",
              "\n",
              "top features\n",
              "        </p>\n",
              "    \n",
              "    <table class=\"eli5-weights\"\n",
              "           style=\"border-collapse: collapse; border: none; margin-top: 0em; table-layout: auto; margin-bottom: 2em;\">\n",
              "        <thead>\n",
              "        <tr style=\"border: none;\">\n",
              "            \n",
              "                <th style=\"padding: 0 1em 0 0.5em; text-align: right; border: none;\" title=\"Feature contribution already accounts for the feature value (for linear models, contribution = weight * feature value), and the sum of feature contributions is equal to the score or, for some classifiers, to the probability. Feature values are shown if &quot;show_feature_values&quot; is True.\">\n",
              "                    Contribution<sup>?</sup>\n",
              "                </th>\n",
              "            \n",
              "            <th style=\"padding: 0 0.5em 0 0.5em; text-align: left; border: none;\">Feature</th>\n",
              "            \n",
              "        </tr>\n",
              "        </thead>\n",
              "        <tbody>\n",
              "        \n",
              "            <tr style=\"background-color: hsl(120, 100.00%, 80.00%); border: none;\">\n",
              "    <td style=\"padding: 0 1em 0 0.5em; text-align: right; border: none;\">\n",
              "        +0.937\n",
              "    </td>\n",
              "    <td style=\"padding: 0 0.5em 0 0.5em; text-align: left; border: none;\">\n",
              "        &lt;BIAS&gt;\n",
              "    </td>\n",
              "    \n",
              "</tr>\n",
              "        \n",
              "            <tr style=\"background-color: hsl(120, 100.00%, 99.37%); border: none;\">\n",
              "    <td style=\"padding: 0 1em 0 0.5em; text-align: right; border: none;\">\n",
              "        +0.007\n",
              "    </td>\n",
              "    <td style=\"padding: 0 0.5em 0 0.5em; text-align: left; border: none;\">\n",
              "        people\n",
              "    </td>\n",
              "    \n",
              "</tr>\n",
              "        \n",
              "            <tr style=\"background-color: hsl(120, 100.00%, 99.38%); border: none;\">\n",
              "    <td style=\"padding: 0 1em 0 0.5em; text-align: right; border: none;\">\n",
              "        +0.007\n",
              "    </td>\n",
              "    <td style=\"padding: 0 0.5em 0 0.5em; text-align: left; border: none;\">\n",
              "        secular\n",
              "    </td>\n",
              "    \n",
              "</tr>\n",
              "        \n",
              "            <tr style=\"background-color: hsl(120, 100.00%, 99.42%); border: none;\">\n",
              "    <td style=\"padding: 0 1em 0 0.5em; text-align: right; border: none;\">\n",
              "        +0.006\n",
              "    </td>\n",
              "    <td style=\"padding: 0 0.5em 0 0.5em; text-align: left; border: none;\">\n",
              "        muslims\n",
              "    </td>\n",
              "    \n",
              "</tr>\n",
              "        \n",
              "            <tr style=\"background-color: hsl(120, 100.00%, 99.44%); border: none;\">\n",
              "    <td style=\"padding: 0 1em 0 0.5em; text-align: right; border: none;\">\n",
              "        +0.006\n",
              "    </td>\n",
              "    <td style=\"padding: 0 0.5em 0 0.5em; text-align: left; border: none;\">\n",
              "        girls\n",
              "    </td>\n",
              "    \n",
              "</tr>\n",
              "        \n",
              "            <tr style=\"background-color: hsl(120, 100.00%, 99.56%); border: none;\">\n",
              "    <td style=\"padding: 0 1em 0 0.5em; text-align: right; border: none;\">\n",
              "        +0.004\n",
              "    </td>\n",
              "    <td style=\"padding: 0 0.5em 0 0.5em; text-align: left; border: none;\">\n",
              "        pakistani\n",
              "    </td>\n",
              "    \n",
              "</tr>\n",
              "        \n",
              "            <tr style=\"background-color: hsl(120, 100.00%, 99.57%); border: none;\">\n",
              "    <td style=\"padding: 0 1em 0 0.5em; text-align: right; border: none;\">\n",
              "        +0.004\n",
              "    </td>\n",
              "    <td style=\"padding: 0 0.5em 0 0.5em; text-align: left; border: none;\">\n",
              "        since\n",
              "    </td>\n",
              "    \n",
              "</tr>\n",
              "        \n",
              "            <tr style=\"background-color: hsl(120, 100.00%, 99.61%); border: none;\">\n",
              "    <td style=\"padding: 0 1em 0 0.5em; text-align: right; border: none;\">\n",
              "        +0.003\n",
              "    </td>\n",
              "    <td style=\"padding: 0 0.5em 0 0.5em; text-align: left; border: none;\">\n",
              "        political\n",
              "    </td>\n",
              "    \n",
              "</tr>\n",
              "        \n",
              "        \n",
              "            <tr style=\"background-color: hsl(120, 100.00%, 99.61%); border: none;\">\n",
              "                <td colspan=\"2\" style=\"padding: 0 0.5em 0 0.5em; text-align: center; border: none; white-space: nowrap;\">\n",
              "                    <i>&hellip; 1375 more positive &hellip;</i>\n",
              "                </td>\n",
              "            </tr>\n",
              "        \n",
              "\n",
              "        \n",
              "            <tr style=\"background-color: hsl(0, 100.00%, 99.90%); border: none;\">\n",
              "                <td colspan=\"2\" style=\"padding: 0 0.5em 0 0.5em; text-align: center; border: none; white-space: nowrap;\">\n",
              "                    <i>&hellip; 178 more negative &hellip;</i>\n",
              "                </td>\n",
              "            </tr>\n",
              "        \n",
              "        \n",
              "            <tr style=\"background-color: hsl(0, 100.00%, 99.90%); border: none;\">\n",
              "    <td style=\"padding: 0 1em 0 0.5em; text-align: right; border: none;\">\n",
              "        -0.000\n",
              "    </td>\n",
              "    <td style=\"padding: 0 0.5em 0 0.5em; text-align: left; border: none;\">\n",
              "        fear\n",
              "    </td>\n",
              "    \n",
              "</tr>\n",
              "        \n",
              "            <tr style=\"background-color: hsl(0, 100.00%, 99.90%); border: none;\">\n",
              "    <td style=\"padding: 0 1em 0 0.5em; text-align: right; border: none;\">\n",
              "        -0.000\n",
              "    </td>\n",
              "    <td style=\"padding: 0 0.5em 0 0.5em; text-align: left; border: none;\">\n",
              "        minorities\n",
              "    </td>\n",
              "    \n",
              "</tr>\n",
              "        \n",
              "            <tr style=\"background-color: hsl(0, 100.00%, 99.90%); border: none;\">\n",
              "    <td style=\"padding: 0 1em 0 0.5em; text-align: right; border: none;\">\n",
              "        -0.000\n",
              "    </td>\n",
              "    <td style=\"padding: 0 0.5em 0 0.5em; text-align: left; border: none;\">\n",
              "        ideology\n",
              "    </td>\n",
              "    \n",
              "</tr>\n",
              "        \n",
              "            <tr style=\"background-color: hsl(0, 100.00%, 99.83%); border: none;\">\n",
              "    <td style=\"padding: 0 1em 0 0.5em; text-align: right; border: none;\">\n",
              "        -0.001\n",
              "    </td>\n",
              "    <td style=\"padding: 0 0.5em 0 0.5em; text-align: left; border: none;\">\n",
              "        pay\n",
              "    </td>\n",
              "    \n",
              "</tr>\n",
              "        \n",
              "            <tr style=\"background-color: hsl(0, 100.00%, 99.80%); border: none;\">\n",
              "    <td style=\"padding: 0 1em 0 0.5em; text-align: right; border: none;\">\n",
              "        -0.001\n",
              "    </td>\n",
              "    <td style=\"padding: 0 0.5em 0 0.5em; text-align: left; border: none;\">\n",
              "        support\n",
              "    </td>\n",
              "    \n",
              "</tr>\n",
              "        \n",
              "            <tr style=\"background-color: hsl(0, 100.00%, 99.79%); border: none;\">\n",
              "    <td style=\"padding: 0 1em 0 0.5em; text-align: right; border: none;\">\n",
              "        -0.001\n",
              "    </td>\n",
              "    <td style=\"padding: 0 0.5em 0 0.5em; text-align: left; border: none;\">\n",
              "        pro\n",
              "    </td>\n",
              "    \n",
              "</tr>\n",
              "        \n",
              "            <tr style=\"background-color: hsl(0, 100.00%, 99.79%); border: none;\">\n",
              "    <td style=\"padding: 0 1em 0 0.5em; text-align: right; border: none;\">\n",
              "        -0.001\n",
              "    </td>\n",
              "    <td style=\"padding: 0 0.5em 0 0.5em; text-align: left; border: none;\">\n",
              "        india\n",
              "    </td>\n",
              "    \n",
              "</tr>\n",
              "        \n",
              "            <tr style=\"background-color: hsl(0, 100.00%, 99.69%); border: none;\">\n",
              "    <td style=\"padding: 0 1em 0 0.5em; text-align: right; border: none;\">\n",
              "        -0.002\n",
              "    </td>\n",
              "    <td style=\"padding: 0 0.5em 0 0.5em; text-align: left; border: none;\">\n",
              "        think\n",
              "    </td>\n",
              "    \n",
              "</tr>\n",
              "        \n",
              "            <tr style=\"background-color: hsl(0, 100.00%, 96.63%); border: none;\">\n",
              "    <td style=\"padding: 0 1em 0 0.5em; text-align: right; border: none;\">\n",
              "        -0.074\n",
              "    </td>\n",
              "    <td style=\"padding: 0 0.5em 0 0.5em; text-align: left; border: none;\">\n",
              "        Highlighted in text (sum)\n",
              "    </td>\n",
              "    \n",
              "</tr>\n",
              "        \n",
              "\n",
              "        </tbody>\n",
              "    </table>\n",
              "\n",
              "    \n",
              "\n",
              "\n",
              "\n",
              "    <p style=\"margin-bottom: 2.5em; margin-top:-0.5em;\">\n",
              "        <span style=\"background-color: hsl(0, 100.00%, 60.00%); opacity: 1.00\" title=\"-0.059\">indian</span><span style=\"opacity: 0.80\"> </span><span style=\"background-color: hsl(0, 100.00%, 70.51%); opacity: 0.93\" title=\"-0.038\">media</span><span style=\"opacity: 0.80\"> </span><span style=\"background-color: hsl(120, 100.00%, 92.41%); opacity: 0.82\" title=\"0.005\">show</span><span style=\"opacity: 0.80\"> </span><span style=\"background-color: hsl(120, 100.00%, 82.85%); opacity: 0.86\" title=\"0.017\">much</span><span style=\"opacity: 0.80\"> drama</span>\n",
              "    </p>\n",
              "\n",
              "\n",
              "    \n",
              "\n",
              "    \n",
              "\n",
              "    \n",
              "\n",
              "    \n",
              "\n",
              "\n",
              "    \n",
              "\n",
              "    \n",
              "\n",
              "    \n",
              "\n",
              "    \n",
              "\n",
              "    \n",
              "\n",
              "    \n",
              "\n",
              "\n",
              "    \n",
              "\n",
              "    \n",
              "\n",
              "    \n",
              "\n",
              "    \n",
              "\n",
              "    \n",
              "\n",
              "    \n",
              "\n",
              "\n",
              "\n"
            ],
            "text/plain": [
              "Explanation(estimator=\"ExtraTreesClassifier(bootstrap=False, class_weight=None, criterion='gini',\\n           max_depth=None, max_features=0.05, max_leaf_nodes=None,\\n           min_impurity_decrease=0.0, min_impurity_split=None,\\n           min_samples_leaf=1, min_samples_split=2,\\n           min_weight_fraction_leaf=0.0, n_estimators=100, n_jobs=None,\\n           oob_score=False, random_state=420, verbose=2, warm_start=False)\", description='\\nFeatures with largest coefficients.\\n\\nFeature weights are calculated by following decision paths in trees\\nof an ensemble (or a single tree for DecisionTreeClassifier).\\nEach node of the tree has an output score, and contribution of a feature\\non the decision path is how much the score changes from parent to child.\\nWeights of all features sum to the output score or proba of the estimator.\\n\\nCaveats:\\n1. Feature weights just show if the feature contributed positively or\\n   negatively to the final score, and does not show how increasing or\\n   decreasing the feature value will change the prediction.\\n2. In some cases, feature weight can be close to zero for an important feature.\\n   For example, in a single tree that computes XOR function, the feature at the\\n   top of the tree will have zero weight because expected scores for both\\n   branches are equal, so decision at the top feature does not change the\\n   expected score. For an ensemble predicting XOR functions it might not be\\n   a problem, but it is not reliable if most trees happen to choose the same\\n   feature at the top.\\n', error=None, method='decision path', is_regression=False, targets=[TargetExplanation(target='Sincere', feature_weights=FeatureWeights(pos=[FeatureWeight(feature='<BIAS>', weight=0.9370511519237016, std=None, value=1.0), FeatureWeight(feature=u'much', weight=0.017459543567857554, std=None, value=1.0), FeatureWeight(feature=u'people', weight=0.0066508167592335115, std=None, value=0.0), FeatureWeight(feature=u'secular', weight=0.006597756758543988, std=None, value=0.0), FeatureWeight(feature=u'muslims', weight=0.005922984445211621, std=None, value=0.0), FeatureWeight(feature=u'girls', weight=0.005657428260957482, std=None, value=0.0), FeatureWeight(feature=u'show', weight=0.005452161683457532, std=None, value=1.0), FeatureWeight(feature=u'pakistani', weight=0.003971367550533928, std=None, value=0.0), FeatureWeight(feature=u'since', weight=0.00393938591283317, std=None, value=0.0), FeatureWeight(feature=u'political', weight=0.003357520419214819, std=None, value=0.0)], neg=[FeatureWeight(feature=u'indian', weight=-0.05855369911002676, std=None, value=1.0), FeatureWeight(feature=u'media', weight=-0.03787765158770115, std=None, value=1.0), FeatureWeight(feature=u'think', weight=-0.002405599846558797, std=None, value=0.0), FeatureWeight(feature=u'india', weight=-0.001425701895739227, std=None, value=0.0), FeatureWeight(feature=u'pro', weight=-0.0013529478639447185, std=None, value=0.0), FeatureWeight(feature=u'support', weight=-0.001333333333333333, std=None, value=0.0), FeatureWeight(feature=u'pay', weight=-0.0010715132901968029, std=None, value=0.0), FeatureWeight(feature=u'ideology', weight=-0.00048247981310701294, std=None, value=0.0), FeatureWeight(feature=u'minorities', weight=-0.0004559103234997719, std=None, value=0.0), FeatureWeight(feature=u'fear', weight=-0.0004545454545454547, std=None, value=0.0)], pos_remaining=1375, neg_remaining=178), proba=1.0, score=None, weighted_spans=WeightedSpans(docs_weighted_spans=[DocWeightedSpans(document=u'indian media show much drama', spans=[(u'indian', [(0, 6)], -0.05855369911002676), (u'media', [(7, 12)], -0.03787765158770115), (u'show', [(13, 17)], 0.005452161683457532), (u'much', [(18, 22)], 0.017459543567857554)], preserve_density=False, vec_name=None)], other=FeatureWeights(pos=[FeatureWeight(feature='<BIAS>', weight=0.9370511519237016, std=None, value=1.0), FeatureWeight(feature=u'people', weight=0.0066508167592335115, std=None, value=0.0), FeatureWeight(feature=u'secular', weight=0.006597756758543988, std=None, value=0.0), FeatureWeight(feature=u'muslims', weight=0.005922984445211621, std=None, value=0.0), FeatureWeight(feature=u'girls', weight=0.005657428260957482, std=None, value=0.0), FeatureWeight(feature=u'pakistani', weight=0.003971367550533928, std=None, value=0.0), FeatureWeight(feature=u'since', weight=0.00393938591283317, std=None, value=0.0), FeatureWeight(feature=u'political', weight=0.003357520419214819, std=None, value=0.0)], neg=[FeatureWeight(feature=<FormattedFeatureName 'Highlighted in text (sum)'>, weight=-0.07351964544641282, std=None, value=None), FeatureWeight(feature=u'think', weight=-0.002405599846558797, std=None, value=0.0), FeatureWeight(feature=u'india', weight=-0.001425701895739227, std=None, value=0.0), FeatureWeight(feature=u'pro', weight=-0.0013529478639447185, std=None, value=0.0), FeatureWeight(feature=u'support', weight=-0.001333333333333333, std=None, value=0.0), FeatureWeight(feature=u'pay', weight=-0.0010715132901968029, std=None, value=0.0), FeatureWeight(feature=u'ideology', weight=-0.00048247981310701294, std=None, value=0.0), FeatureWeight(feature=u'minorities', weight=-0.0004559103234997719, std=None, value=0.0), FeatureWeight(feature=u'fear', weight=-0.0004545454545454547, std=None, value=0.0)], pos_remaining=1375, neg_remaining=178)))], feature_importances=None, decision_tree=None, highlight_spaces=None, transition_features=None)"
            ]
          },
          "metadata": {
            "tags": []
          },
          "execution_count": 39
        }
      ]
    },
    {
      "metadata": {
        "id": "7yPN43eAZ0j_",
        "colab_type": "code",
        "colab": {}
      },
      "cell_type": "code",
      "source": [
        "Even though ETs are known as being less interpretable than "
      ],
      "execution_count": 0,
      "outputs": []
    },
    {
      "metadata": {
        "id": "RLt6gMOnP5iB",
        "colab_type": "code",
        "outputId": "d155dc0d-7c1d-4719-85cb-c74ff5914115",
        "colab": {
          "base_uri": "https://localhost:8080/",
          "height": 1900
        }
      },
      "cell_type": "code",
      "source": [
        "RF_classifier = RandomForestClassifier(n_estimators=100, max_depth=15,random_state=42,max_features=.05,verbose=2)\n",
        "RF_classifier.fit(X_train, y_train)"
      ],
      "execution_count": 0,
      "outputs": [
        {
          "output_type": "stream",
          "text": [
            "[Parallel(n_jobs=1)]: Using backend SequentialBackend with 1 concurrent workers.\n",
            "[Parallel(n_jobs=1)]: Done   1 out of   1 | elapsed:    0.1s remaining:    0.0s\n"
          ],
          "name": "stderr"
        },
        {
          "output_type": "stream",
          "text": [
            "building tree 1 of 100\n",
            "building tree 2 of 100\n",
            "building tree 3 of 100\n",
            "building tree 4 of 100\n",
            "building tree 5 of 100\n",
            "building tree 6 of 100\n",
            "building tree 7 of 100\n",
            "building tree 8 of 100\n",
            "building tree 9 of 100\n",
            "building tree 10 of 100\n",
            "building tree 11 of 100\n",
            "building tree 12 of 100\n",
            "building tree 13 of 100\n",
            "building tree 14 of 100\n",
            "building tree 15 of 100\n",
            "building tree 16 of 100\n",
            "building tree 17 of 100\n",
            "building tree 18 of 100\n",
            "building tree 19 of 100\n",
            "building tree 20 of 100\n",
            "building tree 21 of 100\n",
            "building tree 22 of 100\n",
            "building tree 23 of 100\n",
            "building tree 24 of 100\n",
            "building tree 25 of 100\n",
            "building tree 26 of 100\n",
            "building tree 27 of 100\n",
            "building tree 28 of 100\n",
            "building tree 29 of 100\n",
            "building tree 30 of 100\n",
            "building tree 31 of 100\n",
            "building tree 32 of 100\n",
            "building tree 33 of 100\n",
            "building tree 34 of 100\n",
            "building tree 35 of 100\n",
            "building tree 36 of 100\n",
            "building tree 37 of 100\n",
            "building tree 38 of 100\n",
            "building tree 39 of 100\n",
            "building tree 40 of 100\n",
            "building tree 41 of 100\n",
            "building tree 42 of 100\n",
            "building tree 43 of 100\n",
            "building tree 44 of 100\n",
            "building tree 45 of 100\n",
            "building tree 46 of 100\n",
            "building tree 47 of 100\n",
            "building tree 48 of 100\n",
            "building tree 49 of 100\n",
            "building tree 50 of 100\n",
            "building tree 51 of 100\n",
            "building tree 52 of 100\n",
            "building tree 53 of 100\n",
            "building tree 54 of 100\n",
            "building tree 55 of 100\n",
            "building tree 56 of 100\n",
            "building tree 57 of 100\n",
            "building tree 58 of 100\n",
            "building tree 59 of 100\n",
            "building tree 60 of 100\n",
            "building tree 61 of 100\n",
            "building tree 62 of 100\n",
            "building tree 63 of 100\n",
            "building tree 64 of 100\n",
            "building tree 65 of 100\n",
            "building tree 66 of 100\n",
            "building tree 67 of 100\n",
            "building tree 68 of 100\n",
            "building tree 69 of 100\n",
            "building tree 70 of 100\n",
            "building tree 71 of 100\n",
            "building tree 72 of 100\n",
            "building tree 73 of 100\n",
            "building tree 74 of 100\n",
            "building tree 75 of 100\n",
            "building tree 76 of 100\n",
            "building tree 77 of 100\n",
            "building tree 78 of 100\n",
            "building tree 79 of 100\n",
            "building tree 80 of 100\n",
            "building tree 81 of 100\n",
            "building tree 82 of 100\n",
            "building tree 83 of 100\n",
            "building tree 84 of 100\n",
            "building tree 85 of 100\n",
            "building tree 86 of 100\n",
            "building tree 87 of 100\n",
            "building tree 88 of 100\n",
            "building tree 89 of 100\n",
            "building tree 90 of 100\n",
            "building tree 91 of 100\n",
            "building tree 92 of 100\n",
            "building tree 93 of 100\n",
            "building tree 94 of 100\n",
            "building tree 95 of 100\n",
            "building tree 96 of 100\n",
            "building tree 97 of 100\n",
            "building tree 98 of 100\n",
            "building tree 99 of 100\n",
            "building tree 100 of 100\n"
          ],
          "name": "stdout"
        },
        {
          "output_type": "stream",
          "text": [
            "[Parallel(n_jobs=1)]: Done 100 out of 100 | elapsed:    4.3s finished\n"
          ],
          "name": "stderr"
        },
        {
          "output_type": "execute_result",
          "data": {
            "text/plain": [
              "RandomForestClassifier(bootstrap=True, class_weight=None, criterion='gini',\n",
              "            max_depth=15, max_features=0.05, max_leaf_nodes=None,\n",
              "            min_impurity_decrease=0.0, min_impurity_split=None,\n",
              "            min_samples_leaf=1, min_samples_split=2,\n",
              "            min_weight_fraction_leaf=0.0, n_estimators=100, n_jobs=None,\n",
              "            oob_score=False, random_state=42, verbose=2, warm_start=False)"
            ]
          },
          "metadata": {
            "tags": []
          },
          "execution_count": 14
        }
      ]
    },
    {
      "metadata": {
        "id": "sOEdM0KHP5iE",
        "colab_type": "code",
        "outputId": "a817f93d-7036-4472-bb40-5c4af46fc4ca",
        "colab": {
          "base_uri": "https://localhost:8080/",
          "height": 516
        }
      },
      "cell_type": "code",
      "source": [
        "y_preds_test=RF_classifier.predict(X_test)\n",
        "y_probas_test=RF_classifier.predict_proba(X_test)\n",
        "\n",
        "y_preds_train=RF_classifier.predict(X_train)\n",
        "y_probas_train=RF_classifier.predict_proba(X_train)\n",
        "\n",
        "y_true_train = y_train.values\n",
        "y_true_test = y_test.values\n",
        "\n",
        "print(\"Train Accuracy Score: \", accuracy_score(y_true_train, y_preds_train))\n",
        "print(\"Test Accuracy Score: \", accuracy_score(y_true_test, y_preds_test))\n",
        "print(\"Train F1 Score: \", f1_score(y_true_train, y_preds_train))\n",
        "print(\"Test F1 Score: \", f1_score(y_true_test, y_preds_test))\n",
        "\n",
        "accuracy_df.set_value(\"RandomForest\" , \"countVectorizer\" , \n",
        "accuracy_score(y_true_test, y_preds_test))\n",
        "\n",
        "f1_df.set_value(\"RandomForest\" , \"countVectorizer\" , \n",
        "f1_score(y_true_test, y_preds_test))"
      ],
      "execution_count": 0,
      "outputs": [
        {
          "output_type": "stream",
          "text": [
            "[Parallel(n_jobs=1)]: Using backend SequentialBackend with 1 concurrent workers.\n",
            "[Parallel(n_jobs=1)]: Done   1 out of   1 | elapsed:    0.0s remaining:    0.0s\n",
            "[Parallel(n_jobs=1)]: Done 100 out of 100 | elapsed:    0.1s finished\n",
            "[Parallel(n_jobs=1)]: Using backend SequentialBackend with 1 concurrent workers.\n",
            "[Parallel(n_jobs=1)]: Done   1 out of   1 | elapsed:    0.0s remaining:    0.0s\n",
            "[Parallel(n_jobs=1)]: Done 100 out of 100 | elapsed:    0.1s finished\n",
            "[Parallel(n_jobs=1)]: Using backend SequentialBackend with 1 concurrent workers.\n",
            "[Parallel(n_jobs=1)]: Done   1 out of   1 | elapsed:    0.0s remaining:    0.0s\n",
            "[Parallel(n_jobs=1)]: Done 100 out of 100 | elapsed:    0.5s finished\n",
            "[Parallel(n_jobs=1)]: Using backend SequentialBackend with 1 concurrent workers.\n",
            "[Parallel(n_jobs=1)]: Done   1 out of   1 | elapsed:    0.0s remaining:    0.0s\n"
          ],
          "name": "stderr"
        },
        {
          "output_type": "stream",
          "text": [
            "('Train Accuracy Score: ', 0.9398663270582377)\n",
            "('Test Accuracy Score: ', 0.9377250095748755)\n",
            "('Train F1 Score: ', 0.08614668218859138)\n",
            "('Test F1 Score: ', 0.0378698224852071)\n"
          ],
          "name": "stdout"
        },
        {
          "output_type": "stream",
          "text": [
            "[Parallel(n_jobs=1)]: Done 100 out of 100 | elapsed:    0.5s finished\n",
            "/usr/local/lib/python2.7/dist-packages/ipykernel_launcher.py:16: FutureWarning: set_value is deprecated and will be removed in a future release. Please use .at[] or .iat[] accessors instead\n",
            "  app.launch_new_instance()\n",
            "/usr/local/lib/python2.7/dist-packages/ipykernel_launcher.py:19: FutureWarning: set_value is deprecated and will be removed in a future release. Please use .at[] or .iat[] accessors instead\n"
          ],
          "name": "stderr"
        },
        {
          "output_type": "execute_result",
          "data": {
            "text/html": [
              "<div>\n",
              "<style scoped>\n",
              "    .dataframe tbody tr th:only-of-type {\n",
              "        vertical-align: middle;\n",
              "    }\n",
              "\n",
              "    .dataframe tbody tr th {\n",
              "        vertical-align: top;\n",
              "    }\n",
              "\n",
              "    .dataframe thead th {\n",
              "        text-align: right;\n",
              "    }\n",
              "</style>\n",
              "<table border=\"1\" class=\"dataframe\">\n",
              "  <thead>\n",
              "    <tr style=\"text-align: right;\">\n",
              "      <th></th>\n",
              "      <th>countVectorizer</th>\n",
              "    </tr>\n",
              "  </thead>\n",
              "  <tbody>\n",
              "    <tr>\n",
              "      <th>NB_Multi</th>\n",
              "      <td>0.514938</td>\n",
              "    </tr>\n",
              "    <tr>\n",
              "      <th>NB_Bern</th>\n",
              "      <td>0.475624</td>\n",
              "    </tr>\n",
              "    <tr>\n",
              "      <th>ExtraTrees</th>\n",
              "      <td>0.934814</td>\n",
              "    </tr>\n",
              "    <tr>\n",
              "      <th>RandomForest</th>\n",
              "      <td>0.037870</td>\n",
              "    </tr>\n",
              "  </tbody>\n",
              "</table>\n",
              "</div>"
            ],
            "text/plain": [
              "              countVectorizer\n",
              "NB_Multi             0.514938\n",
              "NB_Bern              0.475624\n",
              "ExtraTrees           0.934814\n",
              "RandomForest         0.037870"
            ]
          },
          "metadata": {
            "tags": []
          },
          "execution_count": 34
        }
      ]
    },
    {
      "metadata": {
        "id": "4GYdEBM0P5iJ",
        "colab_type": "code",
        "outputId": "2395673a-ee08-41ef-b136-ace5c743ddba",
        "colab": {
          "base_uri": "https://localhost:8080/",
          "height": 377
        }
      },
      "cell_type": "code",
      "source": [
        "eli5.explain_prediction(RF_classifier, raw['clean_question_text'][760], vectorizer, \n",
        "                        target_names=[\"Sincere\",\"Insincere\"], top=(10,10))"
      ],
      "execution_count": 0,
      "outputs": [
        {
          "output_type": "stream",
          "text": [
            "[Parallel(n_jobs=1)]: Using backend SequentialBackend with 1 concurrent workers.\n",
            "[Parallel(n_jobs=1)]: Done   1 out of   1 | elapsed:    0.0s remaining:    0.0s\n",
            "[Parallel(n_jobs=1)]: Done 100 out of 100 | elapsed:    0.0s finished\n"
          ],
          "name": "stderr"
        },
        {
          "output_type": "execute_result",
          "data": {
            "text/html": [
              "\n",
              "    <style>\n",
              "    table.eli5-weights tr:hover {\n",
              "        filter: brightness(85%);\n",
              "    }\n",
              "</style>\n",
              "\n",
              "\n",
              "\n",
              "    \n",
              "\n",
              "    \n",
              "\n",
              "    \n",
              "\n",
              "    \n",
              "\n",
              "    \n",
              "\n",
              "    \n",
              "\n",
              "\n",
              "    \n",
              "\n",
              "    \n",
              "\n",
              "    \n",
              "\n",
              "    \n",
              "        \n",
              "\n",
              "    \n",
              "\n",
              "        \n",
              "\n",
              "        \n",
              "    \n",
              "        \n",
              "        \n",
              "    \n",
              "        <p style=\"margin-bottom: 0.5em; margin-top: 0em\">\n",
              "            <b>\n",
              "    \n",
              "        y=Sincere\n",
              "    \n",
              "</b>\n",
              "\n",
              "    \n",
              "    (probability <b>0.957</b>)\n",
              "\n",
              "top features\n",
              "        </p>\n",
              "    \n",
              "    <table class=\"eli5-weights\"\n",
              "           style=\"border-collapse: collapse; border: none; margin-top: 0em; table-layout: auto; margin-bottom: 2em;\">\n",
              "        <thead>\n",
              "        <tr style=\"border: none;\">\n",
              "            \n",
              "                <th style=\"padding: 0 1em 0 0.5em; text-align: right; border: none;\" title=\"Feature contribution already accounts for the feature value (for linear models, contribution = weight * feature value), and the sum of feature contributions is equal to the score or, for some classifiers, to the probability. Feature values are shown if &quot;show_feature_values&quot; is True.\">\n",
              "                    Contribution<sup>?</sup>\n",
              "                </th>\n",
              "            \n",
              "            <th style=\"padding: 0 0.5em 0 0.5em; text-align: left; border: none;\">Feature</th>\n",
              "            \n",
              "        </tr>\n",
              "        </thead>\n",
              "        <tbody>\n",
              "        \n",
              "            <tr style=\"background-color: hsl(120, 100.00%, 80.00%); border: none;\">\n",
              "    <td style=\"padding: 0 1em 0 0.5em; text-align: right; border: none;\">\n",
              "        +0.937\n",
              "    </td>\n",
              "    <td style=\"padding: 0 0.5em 0 0.5em; text-align: left; border: none;\">\n",
              "        &lt;BIAS&gt;\n",
              "    </td>\n",
              "    \n",
              "</tr>\n",
              "        \n",
              "            <tr style=\"background-color: hsl(120, 100.00%, 99.66%); border: none;\">\n",
              "    <td style=\"padding: 0 1em 0 0.5em; text-align: right; border: none;\">\n",
              "        +0.003\n",
              "    </td>\n",
              "    <td style=\"padding: 0 0.5em 0 0.5em; text-align: left; border: none;\">\n",
              "        people\n",
              "    </td>\n",
              "    \n",
              "</tr>\n",
              "        \n",
              "            <tr style=\"background-color: hsl(120, 100.00%, 99.68%); border: none;\">\n",
              "    <td style=\"padding: 0 1em 0 0.5em; text-align: right; border: none;\">\n",
              "        +0.003\n",
              "    </td>\n",
              "    <td style=\"padding: 0 0.5em 0 0.5em; text-align: left; border: none;\">\n",
              "        trump\n",
              "    </td>\n",
              "    \n",
              "</tr>\n",
              "        \n",
              "            <tr style=\"background-color: hsl(120, 100.00%, 99.75%); border: none;\">\n",
              "    <td style=\"padding: 0 1em 0 0.5em; text-align: right; border: none;\">\n",
              "        +0.002\n",
              "    </td>\n",
              "    <td style=\"padding: 0 0.5em 0 0.5em; text-align: left; border: none;\">\n",
              "        women\n",
              "    </td>\n",
              "    \n",
              "</tr>\n",
              "        \n",
              "            <tr style=\"background-color: hsl(120, 100.00%, 99.82%); border: none;\">\n",
              "    <td style=\"padding: 0 1em 0 0.5em; text-align: right; border: none;\">\n",
              "        +0.001\n",
              "    </td>\n",
              "    <td style=\"padding: 0 0.5em 0 0.5em; text-align: left; border: none;\">\n",
              "        muslims\n",
              "    </td>\n",
              "    \n",
              "</tr>\n",
              "        \n",
              "            <tr style=\"background-color: hsl(120, 100.00%, 99.86%); border: none;\">\n",
              "    <td style=\"padding: 0 1em 0 0.5em; text-align: right; border: none;\">\n",
              "        +0.001\n",
              "    </td>\n",
              "    <td style=\"padding: 0 0.5em 0 0.5em; text-align: left; border: none;\">\n",
              "        men\n",
              "    </td>\n",
              "    \n",
              "</tr>\n",
              "        \n",
              "            <tr style=\"background-color: hsl(120, 100.00%, 99.86%); border: none;\">\n",
              "    <td style=\"padding: 0 1em 0 0.5em; text-align: right; border: none;\">\n",
              "        +0.001\n",
              "    </td>\n",
              "    <td style=\"padding: 0 0.5em 0 0.5em; text-align: left; border: none;\">\n",
              "        indians\n",
              "    </td>\n",
              "    \n",
              "</tr>\n",
              "        \n",
              "            <tr style=\"background-color: hsl(120, 100.00%, 99.86%); border: none;\">\n",
              "    <td style=\"padding: 0 1em 0 0.5em; text-align: right; border: none;\">\n",
              "        +0.001\n",
              "    </td>\n",
              "    <td style=\"padding: 0 0.5em 0 0.5em; text-align: left; border: none;\">\n",
              "        white\n",
              "    </td>\n",
              "    \n",
              "</tr>\n",
              "        \n",
              "            <tr style=\"background-color: hsl(120, 100.00%, 99.86%); border: none;\">\n",
              "    <td style=\"padding: 0 1em 0 0.5em; text-align: right; border: none;\">\n",
              "        +0.001\n",
              "    </td>\n",
              "    <td style=\"padding: 0 0.5em 0 0.5em; text-align: left; border: none;\">\n",
              "        americans\n",
              "    </td>\n",
              "    \n",
              "</tr>\n",
              "        \n",
              "            <tr style=\"background-color: hsl(120, 100.00%, 99.87%); border: none;\">\n",
              "    <td style=\"padding: 0 1em 0 0.5em; text-align: right; border: none;\">\n",
              "        +0.001\n",
              "    </td>\n",
              "    <td style=\"padding: 0 0.5em 0 0.5em; text-align: left; border: none;\">\n",
              "        black\n",
              "    </td>\n",
              "    \n",
              "</tr>\n",
              "        \n",
              "        \n",
              "            <tr style=\"background-color: hsl(120, 100.00%, 99.87%); border: none;\">\n",
              "                <td colspan=\"2\" style=\"padding: 0 0.5em 0 0.5em; text-align: center; border: none; white-space: nowrap;\">\n",
              "                    <i>&hellip; 153 more positive &hellip;</i>\n",
              "                </td>\n",
              "            </tr>\n",
              "        \n",
              "\n",
              "        \n",
              "        \n",
              "\n",
              "        </tbody>\n",
              "    </table>\n",
              "\n",
              "    \n",
              "\n",
              "\n",
              "\n",
              "    <p style=\"margin-bottom: 2.5em; margin-top:-0.5em;\">\n",
              "        <span style=\"opacity: 0.80\">give introduction give interview industrial train</span>\n",
              "    </p>\n",
              "\n",
              "\n",
              "    \n",
              "\n",
              "    \n",
              "\n",
              "    \n",
              "\n",
              "    \n",
              "\n",
              "\n",
              "    \n",
              "\n",
              "    \n",
              "\n",
              "    \n",
              "\n",
              "    \n",
              "\n",
              "    \n",
              "\n",
              "    \n",
              "\n",
              "\n",
              "    \n",
              "\n",
              "    \n",
              "\n",
              "    \n",
              "\n",
              "    \n",
              "\n",
              "    \n",
              "\n",
              "    \n",
              "\n",
              "\n",
              "\n"
            ],
            "text/plain": [
              "Explanation(estimator=\"RandomForestClassifier(bootstrap=True, class_weight=None, criterion='gini',\\n            max_depth=15, max_features=0.05, max_leaf_nodes=None,\\n            min_impurity_decrease=0.0, min_impurity_split=None,\\n            min_samples_leaf=1, min_samples_split=2,\\n            min_weight_fraction_leaf=0.0, n_estimators=100, n_jobs=None,\\n            oob_score=False, random_state=42, verbose=2, warm_start=False)\", description='\\nFeatures with largest coefficients.\\n\\nFeature weights are calculated by following decision paths in trees\\nof an ensemble (or a single tree for DecisionTreeClassifier).\\nEach node of the tree has an output score, and contribution of a feature\\non the decision path is how much the score changes from parent to child.\\nWeights of all features sum to the output score or proba of the estimator.\\n\\nCaveats:\\n1. Feature weights just show if the feature contributed positively or\\n   negatively to the final score, and does not show how increasing or\\n   decreasing the feature value will change the prediction.\\n2. In some cases, feature weight can be close to zero for an important feature.\\n   For example, in a single tree that computes XOR function, the feature at the\\n   top of the tree will have zero weight because expected scores for both\\n   branches are equal, so decision at the top feature does not change the\\n   expected score. For an ensemble predicting XOR functions it might not be\\n   a problem, but it is not reliable if most trees happen to choose the same\\n   feature at the top.\\n', error=None, method='decision path', is_regression=False, targets=[TargetExplanation(target='Sincere', feature_weights=FeatureWeights(pos=[FeatureWeight(feature='<BIAS>', weight=0.9371765899994252, std=None, value=1.0), FeatureWeight(feature=u'people', weight=0.002758758636685036, std=None, value=0.0), FeatureWeight(feature=u'trump', weight=0.002527893233826211, std=None, value=0.0), FeatureWeight(feature=u'women', weight=0.001798942183185277, std=None, value=0.0), FeatureWeight(feature=u'muslims', weight=0.0010970401018884858, std=None, value=0.0), FeatureWeight(feature=u'men', weight=0.0007775772339124998, std=None, value=0.0), FeatureWeight(feature=u'indians', weight=0.0007734927754581755, std=None, value=0.0), FeatureWeight(feature=u'white', weight=0.0007725908708092155, std=None, value=0.0), FeatureWeight(feature=u'americans', weight=0.0007660020125695677, std=None, value=0.0), FeatureWeight(feature=u'black', weight=0.0006793591753759631, std=None, value=0.0)], neg=[], pos_remaining=153, neg_remaining=0), proba=0.9567375727827594, score=None, weighted_spans=WeightedSpans(docs_weighted_spans=[DocWeightedSpans(document=u'give introduction give interview industrial train', spans=[], preserve_density=False, vec_name=None)], other=FeatureWeights(pos=[FeatureWeight(feature='<BIAS>', weight=0.9371765899994252, std=None, value=1.0), FeatureWeight(feature=u'people', weight=0.002758758636685036, std=None, value=0.0), FeatureWeight(feature=u'trump', weight=0.002527893233826211, std=None, value=0.0), FeatureWeight(feature=u'women', weight=0.001798942183185277, std=None, value=0.0), FeatureWeight(feature=u'muslims', weight=0.0010970401018884858, std=None, value=0.0), FeatureWeight(feature=u'men', weight=0.0007775772339124998, std=None, value=0.0), FeatureWeight(feature=u'indians', weight=0.0007734927754581755, std=None, value=0.0), FeatureWeight(feature=u'white', weight=0.0007725908708092155, std=None, value=0.0), FeatureWeight(feature=u'americans', weight=0.0007660020125695677, std=None, value=0.0), FeatureWeight(feature=u'black', weight=0.0006793591753759631, std=None, value=0.0)], neg=[], pos_remaining=153, neg_remaining=0)))], feature_importances=None, decision_tree=None, highlight_spaces=None, transition_features=None)"
            ]
          },
          "metadata": {
            "tags": []
          },
          "execution_count": 19
        }
      ]
    },
    {
      "metadata": {
        "id": "HTuSJlEXP5iO",
        "colab_type": "code",
        "colab": {}
      },
      "cell_type": "code",
      "source": [
        "#eli5.explain_prediction(SVC_classifier, raw['clean_question_text'][980], vectorizer, target_names=[\"Sincere\",\"Insincere\"],top=(10,10))"
      ],
      "execution_count": 0,
      "outputs": []
    },
    {
      "metadata": {
        "id": "TDctkk20P5iS",
        "colab_type": "code",
        "outputId": "002f5416-d6a5-4313-8b02-30029bb82d42",
        "colab": {
          "base_uri": "https://localhost:8080/",
          "height": 567
        }
      },
      "cell_type": "code",
      "source": [
        "eli5.explain_prediction(ET_classifier, raw['clean_question_text'][760], vectorizer, \n",
        "                        target_names=[\"Sincere\",\"Insincere\"],top=(10,10))"
      ],
      "execution_count": 0,
      "outputs": [
        {
          "output_type": "stream",
          "text": [
            "[Parallel(n_jobs=1)]: Using backend SequentialBackend with 1 concurrent workers.\n",
            "[Parallel(n_jobs=1)]: Done   1 out of   1 | elapsed:    0.0s remaining:    0.0s\n",
            "[Parallel(n_jobs=1)]: Done 100 out of 100 | elapsed:    0.0s finished\n"
          ],
          "name": "stderr"
        },
        {
          "output_type": "execute_result",
          "data": {
            "text/html": [
              "\n",
              "    <style>\n",
              "    table.eli5-weights tr:hover {\n",
              "        filter: brightness(85%);\n",
              "    }\n",
              "</style>\n",
              "\n",
              "\n",
              "\n",
              "    \n",
              "\n",
              "    \n",
              "\n",
              "    \n",
              "\n",
              "    \n",
              "\n",
              "    \n",
              "\n",
              "    \n",
              "\n",
              "\n",
              "    \n",
              "\n",
              "    \n",
              "\n",
              "    \n",
              "\n",
              "    \n",
              "        \n",
              "\n",
              "    \n",
              "\n",
              "        \n",
              "\n",
              "        \n",
              "    \n",
              "        \n",
              "        \n",
              "    \n",
              "        <p style=\"margin-bottom: 0.5em; margin-top: 0em\">\n",
              "            <b>\n",
              "    \n",
              "        y=Sincere\n",
              "    \n",
              "</b>\n",
              "\n",
              "    \n",
              "    (probability <b>1.000</b>)\n",
              "\n",
              "top features\n",
              "        </p>\n",
              "    \n",
              "    <table class=\"eli5-weights\"\n",
              "           style=\"border-collapse: collapse; border: none; margin-top: 0em; table-layout: auto; margin-bottom: 2em;\">\n",
              "        <thead>\n",
              "        <tr style=\"border: none;\">\n",
              "            \n",
              "                <th style=\"padding: 0 1em 0 0.5em; text-align: right; border: none;\" title=\"Feature contribution already accounts for the feature value (for linear models, contribution = weight * feature value), and the sum of feature contributions is equal to the score or, for some classifiers, to the probability. Feature values are shown if &quot;show_feature_values&quot; is True.\">\n",
              "                    Contribution<sup>?</sup>\n",
              "                </th>\n",
              "            \n",
              "            <th style=\"padding: 0 0.5em 0 0.5em; text-align: left; border: none;\">Feature</th>\n",
              "            \n",
              "        </tr>\n",
              "        </thead>\n",
              "        <tbody>\n",
              "        \n",
              "            <tr style=\"background-color: hsl(120, 100.00%, 80.00%); border: none;\">\n",
              "    <td style=\"padding: 0 1em 0 0.5em; text-align: right; border: none;\">\n",
              "        +0.937\n",
              "    </td>\n",
              "    <td style=\"padding: 0 0.5em 0 0.5em; text-align: left; border: none;\">\n",
              "        &lt;BIAS&gt;\n",
              "    </td>\n",
              "    \n",
              "</tr>\n",
              "        \n",
              "            <tr style=\"background-color: hsl(120, 100.00%, 99.50%); border: none;\">\n",
              "    <td style=\"padding: 0 1em 0 0.5em; text-align: right; border: none;\">\n",
              "        +0.005\n",
              "    </td>\n",
              "    <td style=\"padding: 0 0.5em 0 0.5em; text-align: left; border: none;\">\n",
              "        people\n",
              "    </td>\n",
              "    \n",
              "</tr>\n",
              "        \n",
              "            <tr style=\"background-color: hsl(120, 100.00%, 99.67%); border: none;\">\n",
              "    <td style=\"padding: 0 1em 0 0.5em; text-align: right; border: none;\">\n",
              "        +0.003\n",
              "    </td>\n",
              "    <td style=\"padding: 0 0.5em 0 0.5em; text-align: left; border: none;\">\n",
              "        trump\n",
              "    </td>\n",
              "    \n",
              "</tr>\n",
              "        \n",
              "            <tr style=\"background-color: hsl(120, 100.00%, 99.70%); border: none;\">\n",
              "    <td style=\"padding: 0 1em 0 0.5em; text-align: right; border: none;\">\n",
              "        +0.002\n",
              "    </td>\n",
              "    <td style=\"padding: 0 0.5em 0 0.5em; text-align: left; border: none;\">\n",
              "        women\n",
              "    </td>\n",
              "    \n",
              "</tr>\n",
              "        \n",
              "            <tr style=\"background-color: hsl(120, 100.00%, 99.76%); border: none;\">\n",
              "    <td style=\"padding: 0 1em 0 0.5em; text-align: right; border: none;\">\n",
              "        +0.002\n",
              "    </td>\n",
              "    <td style=\"padding: 0 0.5em 0 0.5em; text-align: left; border: none;\">\n",
              "        men\n",
              "    </td>\n",
              "    \n",
              "</tr>\n",
              "        \n",
              "            <tr style=\"background-color: hsl(120, 100.00%, 99.77%); border: none;\">\n",
              "    <td style=\"padding: 0 1em 0 0.5em; text-align: right; border: none;\">\n",
              "        +0.002\n",
              "    </td>\n",
              "    <td style=\"padding: 0 0.5em 0 0.5em; text-align: left; border: none;\">\n",
              "        muslims\n",
              "    </td>\n",
              "    \n",
              "</tr>\n",
              "        \n",
              "            <tr style=\"background-color: hsl(120, 100.00%, 99.79%); border: none;\">\n",
              "    <td style=\"padding: 0 1em 0 0.5em; text-align: right; border: none;\">\n",
              "        +0.001\n",
              "    </td>\n",
              "    <td style=\"padding: 0 0.5em 0 0.5em; text-align: left; border: none;\">\n",
              "        americans\n",
              "    </td>\n",
              "    \n",
              "</tr>\n",
              "        \n",
              "            <tr style=\"background-color: hsl(120, 100.00%, 99.79%); border: none;\">\n",
              "    <td style=\"padding: 0 1em 0 0.5em; text-align: right; border: none;\">\n",
              "        +0.001\n",
              "    </td>\n",
              "    <td style=\"padding: 0 0.5em 0 0.5em; text-align: left; border: none;\">\n",
              "        indians\n",
              "    </td>\n",
              "    \n",
              "</tr>\n",
              "        \n",
              "            <tr style=\"background-color: hsl(120, 100.00%, 99.82%); border: none;\">\n",
              "    <td style=\"padding: 0 1em 0 0.5em; text-align: right; border: none;\">\n",
              "        +0.001\n",
              "    </td>\n",
              "    <td style=\"padding: 0 0.5em 0 0.5em; text-align: left; border: none;\">\n",
              "        quora\n",
              "    </td>\n",
              "    \n",
              "</tr>\n",
              "        \n",
              "            <tr style=\"background-color: hsl(120, 100.00%, 99.83%); border: none;\">\n",
              "    <td style=\"padding: 0 1em 0 0.5em; text-align: right; border: none;\">\n",
              "        +0.001\n",
              "    </td>\n",
              "    <td style=\"padding: 0 0.5em 0 0.5em; text-align: left; border: none;\">\n",
              "        black\n",
              "    </td>\n",
              "    \n",
              "</tr>\n",
              "        \n",
              "        \n",
              "            <tr style=\"background-color: hsl(120, 100.00%, 99.83%); border: none;\">\n",
              "                <td colspan=\"2\" style=\"padding: 0 0.5em 0 0.5em; text-align: center; border: none; white-space: nowrap;\">\n",
              "                    <i>&hellip; 1426 more positive &hellip;</i>\n",
              "                </td>\n",
              "            </tr>\n",
              "        \n",
              "\n",
              "        \n",
              "            <tr style=\"background-color: hsl(0, 100.00%, 100.00%); border: none;\">\n",
              "                <td colspan=\"2\" style=\"padding: 0 0.5em 0 0.5em; text-align: center; border: none; white-space: nowrap;\">\n",
              "                    <i>&hellip; 229 more negative &hellip;</i>\n",
              "                </td>\n",
              "            </tr>\n",
              "        \n",
              "        \n",
              "            <tr style=\"background-color: hsl(0, 100.00%, 100.00%); border: none;\">\n",
              "    <td style=\"padding: 0 1em 0 0.5em; text-align: right; border: none;\">\n",
              "        -0.000\n",
              "    </td>\n",
              "    <td style=\"padding: 0 0.5em 0 0.5em; text-align: left; border: none;\">\n",
              "        become\n",
              "    </td>\n",
              "    \n",
              "</tr>\n",
              "        \n",
              "            <tr style=\"background-color: hsl(0, 100.00%, 100.00%); border: none;\">\n",
              "    <td style=\"padding: 0 1em 0 0.5em; text-align: right; border: none;\">\n",
              "        -0.000\n",
              "    </td>\n",
              "    <td style=\"padding: 0 0.5em 0 0.5em; text-align: left; border: none;\">\n",
              "        find\n",
              "    </td>\n",
              "    \n",
              "</tr>\n",
              "        \n",
              "            <tr style=\"background-color: hsl(0, 100.00%, 100.00%); border: none;\">\n",
              "    <td style=\"padding: 0 1em 0 0.5em; text-align: right; border: none;\">\n",
              "        -0.000\n",
              "    </td>\n",
              "    <td style=\"padding: 0 0.5em 0 0.5em; text-align: left; border: none;\">\n",
              "        time\n",
              "    </td>\n",
              "    \n",
              "</tr>\n",
              "        \n",
              "            <tr style=\"background-color: hsl(0, 100.00%, 100.00%); border: none;\">\n",
              "    <td style=\"padding: 0 1em 0 0.5em; text-align: right; border: none;\">\n",
              "        -0.000\n",
              "    </td>\n",
              "    <td style=\"padding: 0 0.5em 0 0.5em; text-align: left; border: none;\">\n",
              "        one\n",
              "    </td>\n",
              "    \n",
              "</tr>\n",
              "        \n",
              "            <tr style=\"background-color: hsl(0, 100.00%, 100.00%); border: none;\">\n",
              "    <td style=\"padding: 0 1em 0 0.5em; text-align: right; border: none;\">\n",
              "        -0.000\n",
              "    </td>\n",
              "    <td style=\"padding: 0 0.5em 0 0.5em; text-align: left; border: none;\">\n",
              "        much\n",
              "    </td>\n",
              "    \n",
              "</tr>\n",
              "        \n",
              "            <tr style=\"background-color: hsl(0, 100.00%, 100.00%); border: none;\">\n",
              "    <td style=\"padding: 0 1em 0 0.5em; text-align: right; border: none;\">\n",
              "        -0.000\n",
              "    </td>\n",
              "    <td style=\"padding: 0 0.5em 0 0.5em; text-align: left; border: none;\">\n",
              "        work\n",
              "    </td>\n",
              "    \n",
              "</tr>\n",
              "        \n",
              "            <tr style=\"background-color: hsl(0, 100.00%, 100.00%); border: none;\">\n",
              "    <td style=\"padding: 0 1em 0 0.5em; text-align: right; border: none;\">\n",
              "        -0.000\n",
              "    </td>\n",
              "    <td style=\"padding: 0 0.5em 0 0.5em; text-align: left; border: none;\">\n",
              "        mean\n",
              "    </td>\n",
              "    \n",
              "</tr>\n",
              "        \n",
              "            <tr style=\"background-color: hsl(0, 100.00%, 100.00%); border: none;\">\n",
              "    <td style=\"padding: 0 1em 0 0.5em; text-align: right; border: none;\">\n",
              "        -0.000\n",
              "    </td>\n",
              "    <td style=\"padding: 0 0.5em 0 0.5em; text-align: left; border: none;\">\n",
              "        make\n",
              "    </td>\n",
              "    \n",
              "</tr>\n",
              "        \n",
              "            <tr style=\"background-color: hsl(0, 100.00%, 99.99%); border: none;\">\n",
              "    <td style=\"padding: 0 1em 0 0.5em; text-align: right; border: none;\">\n",
              "        -0.000\n",
              "    </td>\n",
              "    <td style=\"padding: 0 0.5em 0 0.5em; text-align: left; border: none;\">\n",
              "        use\n",
              "    </td>\n",
              "    \n",
              "</tr>\n",
              "        \n",
              "            <tr style=\"background-color: hsl(0, 100.00%, 99.96%); border: none;\">\n",
              "    <td style=\"padding: 0 1em 0 0.5em; text-align: right; border: none;\">\n",
              "        -0.000\n",
              "    </td>\n",
              "    <td style=\"padding: 0 0.5em 0 0.5em; text-align: left; border: none;\">\n",
              "        best\n",
              "    </td>\n",
              "    \n",
              "</tr>\n",
              "        \n",
              "\n",
              "        </tbody>\n",
              "    </table>\n",
              "\n",
              "    \n",
              "\n",
              "\n",
              "\n",
              "    <p style=\"margin-bottom: 2.5em; margin-top:-0.5em;\">\n",
              "        <span style=\"opacity: 0.80\">give introduction give interview industrial train</span>\n",
              "    </p>\n",
              "\n",
              "\n",
              "    \n",
              "\n",
              "    \n",
              "\n",
              "    \n",
              "\n",
              "    \n",
              "\n",
              "\n",
              "    \n",
              "\n",
              "    \n",
              "\n",
              "    \n",
              "\n",
              "    \n",
              "\n",
              "    \n",
              "\n",
              "    \n",
              "\n",
              "\n",
              "    \n",
              "\n",
              "    \n",
              "\n",
              "    \n",
              "\n",
              "    \n",
              "\n",
              "    \n",
              "\n",
              "    \n",
              "\n",
              "\n",
              "\n"
            ],
            "text/plain": [
              "Explanation(estimator=\"ExtraTreesClassifier(bootstrap=False, class_weight=None, criterion='gini',\\n           max_depth=None, max_features=0.05, max_leaf_nodes=None,\\n           min_impurity_decrease=0.0, min_impurity_split=None,\\n           min_samples_leaf=1, min_samples_split=2,\\n           min_weight_fraction_leaf=0.0, n_estimators=100, n_jobs=None,\\n           oob_score=False, random_state=420, verbose=2, warm_start=False)\", description='\\nFeatures with largest coefficients.\\n\\nFeature weights are calculated by following decision paths in trees\\nof an ensemble (or a single tree for DecisionTreeClassifier).\\nEach node of the tree has an output score, and contribution of a feature\\non the decision path is how much the score changes from parent to child.\\nWeights of all features sum to the output score or proba of the estimator.\\n\\nCaveats:\\n1. Feature weights just show if the feature contributed positively or\\n   negatively to the final score, and does not show how increasing or\\n   decreasing the feature value will change the prediction.\\n2. In some cases, feature weight can be close to zero for an important feature.\\n   For example, in a single tree that computes XOR function, the feature at the\\n   top of the tree will have zero weight because expected scores for both\\n   branches are equal, so decision at the top feature does not change the\\n   expected score. For an ensemble predicting XOR functions it might not be\\n   a problem, but it is not reliable if most trees happen to choose the same\\n   feature at the top.\\n', error=None, method='decision path', is_regression=False, targets=[TargetExplanation(target='Sincere', feature_weights=FeatureWeights(pos=[FeatureWeight(feature='<BIAS>', weight=0.9370511519237016, std=None, value=1.0), FeatureWeight(feature=u'people', weight=0.004861467130251911, std=None, value=0.0), FeatureWeight(feature=u'trump', weight=0.0027068655298233403, std=None, value=0.0), FeatureWeight(feature=u'women', weight=0.00227870403097857, std=None, value=0.0), FeatureWeight(feature=u'men', weight=0.0016511699135451164, std=None, value=0.0), FeatureWeight(feature=u'muslims', weight=0.0015969808337250601, std=None, value=0.0), FeatureWeight(feature=u'americans', weight=0.0014115930658870402, std=None, value=0.0), FeatureWeight(feature=u'indians', weight=0.0013697020179301012, std=None, value=0.0), FeatureWeight(feature=u'quora', weight=0.0010961422118426923, std=None, value=0.0), FeatureWeight(feature=u'black', weight=0.0009961574998776468, std=None, value=0.0)], neg=[FeatureWeight(feature=u'best', weight=-0.0001516250179294143, std=None, value=0.0), FeatureWeight(feature=u'use', weight=-6.846328833784999e-06, std=None, value=0.0), FeatureWeight(feature=u'make', weight=-6.583708747152084e-06, std=None, value=0.0), FeatureWeight(feature=u'mean', weight=-4.050797030323849e-06, std=None, value=0.0), FeatureWeight(feature=u'work', weight=-3.864866259004618e-06, std=None, value=0.0), FeatureWeight(feature=u'much', weight=-3.7815030428456353e-06, std=None, value=0.0), FeatureWeight(feature=u'one', weight=-3.7416937436218767e-06, std=None, value=0.0), FeatureWeight(feature=u'time', weight=-3.692344639645295e-06, std=None, value=0.0), FeatureWeight(feature=u'find', weight=-3.6871192741338986e-06, std=None, value=0.0), FeatureWeight(feature=u'become', weight=-3.370155321653634e-06, std=None, value=0.0)], pos_remaining=1426, neg_remaining=229), proba=1.0, score=None, weighted_spans=WeightedSpans(docs_weighted_spans=[DocWeightedSpans(document=u'give introduction give interview industrial train', spans=[], preserve_density=False, vec_name=None)], other=FeatureWeights(pos=[FeatureWeight(feature='<BIAS>', weight=0.9370511519237016, std=None, value=1.0), FeatureWeight(feature=u'people', weight=0.004861467130251911, std=None, value=0.0), FeatureWeight(feature=u'trump', weight=0.0027068655298233403, std=None, value=0.0), FeatureWeight(feature=u'women', weight=0.00227870403097857, std=None, value=0.0), FeatureWeight(feature=u'men', weight=0.0016511699135451164, std=None, value=0.0), FeatureWeight(feature=u'muslims', weight=0.0015969808337250601, std=None, value=0.0), FeatureWeight(feature=u'americans', weight=0.0014115930658870402, std=None, value=0.0), FeatureWeight(feature=u'indians', weight=0.0013697020179301012, std=None, value=0.0), FeatureWeight(feature=u'quora', weight=0.0010961422118426923, std=None, value=0.0), FeatureWeight(feature=u'black', weight=0.0009961574998776468, std=None, value=0.0)], neg=[FeatureWeight(feature=u'best', weight=-0.0001516250179294143, std=None, value=0.0), FeatureWeight(feature=u'use', weight=-6.846328833784999e-06, std=None, value=0.0), FeatureWeight(feature=u'make', weight=-6.583708747152084e-06, std=None, value=0.0), FeatureWeight(feature=u'mean', weight=-4.050797030323849e-06, std=None, value=0.0), FeatureWeight(feature=u'work', weight=-3.864866259004618e-06, std=None, value=0.0), FeatureWeight(feature=u'much', weight=-3.7815030428456353e-06, std=None, value=0.0), FeatureWeight(feature=u'one', weight=-3.7416937436218767e-06, std=None, value=0.0), FeatureWeight(feature=u'time', weight=-3.692344639645295e-06, std=None, value=0.0), FeatureWeight(feature=u'find', weight=-3.6871192741338986e-06, std=None, value=0.0), FeatureWeight(feature=u'become', weight=-3.370155321653634e-06, std=None, value=0.0)], pos_remaining=1426, neg_remaining=229)))], feature_importances=None, decision_tree=None, highlight_spaces=None, transition_features=None)"
            ]
          },
          "metadata": {
            "tags": []
          },
          "execution_count": 22
        }
      ]
    },
    {
      "metadata": {
        "id": "CYhm8T31P5ic",
        "colab_type": "code",
        "colab": {}
      },
      "cell_type": "code",
      "source": [
        "#eli5.explain_prediction(SVC_classifier, raw['clean_question_text'][760], vectorizer, target_names=[\"Sincere\",\"Insincere\"],top=(10,10))"
      ],
      "execution_count": 0,
      "outputs": []
    },
    {
      "metadata": {
        "id": "LIiEG7PRX3tM",
        "colab_type": "code",
        "colab": {}
      },
      "cell_type": "code",
      "source": [
        "Let's check out each classifier's Accuracy and F1 Scores"
      ],
      "execution_count": 0,
      "outputs": []
    },
    {
      "metadata": {
        "id": "6Mm7RXSsX9ov",
        "colab_type": "text"
      },
      "cell_type": "markdown",
      "source": [
        "### Accuracy"
      ]
    },
    {
      "metadata": {
        "id": "Iydla97pXkrj",
        "colab_type": "code",
        "outputId": "c4eccaa8-3752-4caa-b3f9-4aa4cda79b17",
        "colab": {
          "base_uri": "https://localhost:8080/",
          "height": 168
        }
      },
      "cell_type": "code",
      "source": [
        "accuracy_df"
      ],
      "execution_count": 0,
      "outputs": [
        {
          "output_type": "execute_result",
          "data": {
            "text/html": [
              "<div>\n",
              "<style scoped>\n",
              "    .dataframe tbody tr th:only-of-type {\n",
              "        vertical-align: middle;\n",
              "    }\n",
              "\n",
              "    .dataframe tbody tr th {\n",
              "        vertical-align: top;\n",
              "    }\n",
              "\n",
              "    .dataframe thead th {\n",
              "        text-align: right;\n",
              "    }\n",
              "</style>\n",
              "<table border=\"1\" class=\"dataframe\">\n",
              "  <thead>\n",
              "    <tr style=\"text-align: right;\">\n",
              "      <th></th>\n",
              "      <th>countVectorizer</th>\n",
              "    </tr>\n",
              "  </thead>\n",
              "  <tbody>\n",
              "    <tr>\n",
              "      <th>NB_Multi</th>\n",
              "      <td>0.931597</td>\n",
              "    </tr>\n",
              "    <tr>\n",
              "      <th>NB_Bern</th>\n",
              "      <td>0.932440</td>\n",
              "    </tr>\n",
              "    <tr>\n",
              "      <th>ExtraTrees</th>\n",
              "      <td>0.934814</td>\n",
              "    </tr>\n",
              "    <tr>\n",
              "      <th>RandomForest</th>\n",
              "      <td>0.937725</td>\n",
              "    </tr>\n",
              "  </tbody>\n",
              "</table>\n",
              "</div>"
            ],
            "text/plain": [
              "              countVectorizer\n",
              "NB_Multi             0.931597\n",
              "NB_Bern              0.932440\n",
              "ExtraTrees           0.934814\n",
              "RandomForest         0.937725"
            ]
          },
          "metadata": {
            "tags": []
          },
          "execution_count": 35
        }
      ]
    },
    {
      "metadata": {
        "id": "VVkoRAzlYGhr",
        "colab_type": "text"
      },
      "cell_type": "markdown",
      "source": [
        "### F1"
      ]
    },
    {
      "metadata": {
        "id": "0Nf19BySXmtZ",
        "colab_type": "code",
        "outputId": "d57f369b-2f8f-4c72-ebc7-2d23d273ce7e",
        "colab": {
          "base_uri": "https://localhost:8080/",
          "height": 168
        }
      },
      "cell_type": "code",
      "source": [
        "f1_df"
      ],
      "execution_count": 0,
      "outputs": [
        {
          "output_type": "execute_result",
          "data": {
            "text/html": [
              "<div>\n",
              "<style scoped>\n",
              "    .dataframe tbody tr th:only-of-type {\n",
              "        vertical-align: middle;\n",
              "    }\n",
              "\n",
              "    .dataframe tbody tr th {\n",
              "        vertical-align: top;\n",
              "    }\n",
              "\n",
              "    .dataframe thead th {\n",
              "        text-align: right;\n",
              "    }\n",
              "</style>\n",
              "<table border=\"1\" class=\"dataframe\">\n",
              "  <thead>\n",
              "    <tr style=\"text-align: right;\">\n",
              "      <th></th>\n",
              "      <th>countVectorizer</th>\n",
              "    </tr>\n",
              "  </thead>\n",
              "  <tbody>\n",
              "    <tr>\n",
              "      <th>NB_Multi</th>\n",
              "      <td>0.514938</td>\n",
              "    </tr>\n",
              "    <tr>\n",
              "      <th>NB_Bern</th>\n",
              "      <td>0.475624</td>\n",
              "    </tr>\n",
              "    <tr>\n",
              "      <th>ExtraTrees</th>\n",
              "      <td>0.934814</td>\n",
              "    </tr>\n",
              "    <tr>\n",
              "      <th>RandomForest</th>\n",
              "      <td>0.037870</td>\n",
              "    </tr>\n",
              "  </tbody>\n",
              "</table>\n",
              "</div>"
            ],
            "text/plain": [
              "              countVectorizer\n",
              "NB_Multi             0.514938\n",
              "NB_Bern              0.475624\n",
              "ExtraTrees           0.934814\n",
              "RandomForest         0.037870"
            ]
          },
          "metadata": {
            "tags": []
          },
          "execution_count": 36
        }
      ]
    },
    {
      "metadata": {
        "id": "BGqFMiG_YOeW",
        "colab_type": "text"
      },
      "cell_type": "markdown",
      "source": [
        "Between Random Forest and Extra Trees, it seems like the latter is a better fit for this task, though it was very overfit to the training data for f1 score. Both of the Naive Bayes models (as well as Logistic Regression) did pretty well, and avoided overfitting. Perhaps in the next notebook we should try \"ensembling\" multiple classifers together?\n",
        "\n",
        "Note that the SVC also seems like a very promising option, however due to its high computational cost it was not used during this iteration. If time/computation is no object, it probably should be included in the list of possible models, even if it were to work on a dataset post-dimensionality reduction (although the model is also know to generalize well on high-dimensional datasets, despite the computational cost trade-off.)"
      ]
    },
    {
      "metadata": {
        "id": "hY1POHc2P5ig",
        "colab_type": "text"
      },
      "cell_type": "markdown",
      "source": [
        "Since too many transformations on high dimensional datasets has the potential to trigger a memory error, let's now look at these models with TFIDF vectorization, in the next notebook."
      ]
    }
  ]
}